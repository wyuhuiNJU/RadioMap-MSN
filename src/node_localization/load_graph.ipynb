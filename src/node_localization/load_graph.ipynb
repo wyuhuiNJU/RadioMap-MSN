{
 "cells": [
  {
   "cell_type": "code",
   "execution_count": 2,
   "metadata": {},
   "outputs": [
    {
     "name": "stderr",
     "output_type": "stream",
     "text": [
      "/home/wyuhui/.conda/envs/rem/lib/python3.9/site-packages/tqdm/auto.py:21: TqdmWarning: IProgress not found. Please update jupyter and ipywidgets. See https://ipywidgets.readthedocs.io/en/stable/user_install.html\n",
      "  from .autonotebook import tqdm as notebook_tqdm\n"
     ]
    }
   ],
   "source": [
    "import networkx as nx\n",
    "import dgl\n",
    "import numpy as np  \n",
    "import pandas as pd "
   ]
  },
  {
   "cell_type": "code",
   "execution_count": 5,
   "metadata": {},
   "outputs": [],
   "source": [
    "path = '../../data/project_170/topo-2/8/matrix/59.csv'\n",
    "\n",
    "matrix = pd.read_csv(path,index_col=0)"
   ]
  },
  {
   "cell_type": "code",
   "execution_count": 15,
   "metadata": {},
   "outputs": [
    {
     "name": "stderr",
     "output_type": "stream",
     "text": [
      "/home/wyuhui/.conda/envs/rem/lib/python3.9/site-packages/torch/cuda/__init__.py:611: UserWarning: Can't initialize NVML\n",
      "  warnings.warn(\"Can't initialize NVML\")\n"
     ]
    },
    {
     "name": "stdout",
     "output_type": "stream",
     "text": [
      "cuda device found\n"
     ]
    },
    {
     "name": "stderr",
     "output_type": "stream",
     "text": [
      "loading graphs...: 100%|██████████| 10001/10001 [00:33<00:00, 301.47it/s]\n"
     ]
    }
   ],
   "source": [
    "import os\n",
    "import dgl\n",
    "import dgl.nn as dglnn\n",
    "import torch\n",
    "import torch.nn as nn   \n",
    "import torch.nn.functional as F\n",
    "import networkx as nx\n",
    "import numpy as np  \n",
    "import pandas as pd \n",
    "from tqdm import tqdm\n",
    "import random\n",
    "\n",
    "class Params():\n",
    "    def __init__(self, point_num, device, project_dir, matrix_dir) -> None:\n",
    "        self.N = point_num # 仿真采样点数\n",
    "        self.device = device\n",
    "        self.project_dir = project_dir\n",
    "        self.matrix_dir = matrix_dir\n",
    "        pass\n",
    "\n",
    "    def set_data_params(self, batch_size, train_val_test_ratio):\n",
    "        self.batch_size = batch_size\n",
    "        self.train_val_test_ratio = train_val_test_ratio\n",
    "\n",
    "\n",
    "    def set_model_params(self, loss_fcn, optimizer, epoches):\n",
    "        self.loss_fcn = loss_fcn\n",
    "        self.optimizer = optimizer\n",
    "        self.epoches = epoches\n",
    "        return\n",
    "\n",
    "\n",
    "def load_graphs(params: Params):\n",
    "    positions = pd.read_csv(os.path.join(params.project_dir,'positions.csv'), index_col=0).to_numpy()\n",
    "    mean_x = sum(positions.T[0]) / positions.shape[0]\n",
    "    mean_y = sum(positions.T[1]) / positions.shape[0]\n",
    "\n",
    "    connection_matrix = pd.read_csv(os.path.join(params.project_dir, 'connection_matrix.csv'), index_col=0).to_numpy()\n",
    "\n",
    "    \n",
    "    all_graphs = []\n",
    "    for csv_name in tqdm(os.listdir(params.matrix_dir), desc='loading graphs...'):\n",
    "        matrix = pd.read_csv(os.path.join(params.matrix_dir, csv_name), index_col=0)\n",
    "        g_nx = nx.from_numpy_array(matrix.to_numpy())\n",
    "        nodes_id = matrix.columns.astype(int)\n",
    "        g = dgl.from_networkx(g_nx)\n",
    "        g.ndata['node_id'] = torch.tensor(nodes_id)\n",
    "        g.ndata['position'] = torch.tensor(np.array([positions[i] for i in nodes_id]), dtype=torch.float32) # 位置标签\n",
    "        g.ndata['feat'] = torch.tensor([[mean_x, mean_y] for _ in range(g.number_of_nodes())], dtype=torch.float32) # 初始化节点特征\n",
    "        # g.ndata['feat'] = torch.tensor(np.array([positions[i] for i in nodes_id]), dtype=torch.float32) # 位置标签\n",
    "        \n",
    "        power_features = []\n",
    "        # 给边特征赋值 power\n",
    "        for i in range(g.num_edges()):\n",
    "            src_node_id = nodes_id[int(g.edges()[0][i])]\n",
    "            dst_node_id = nodes_id[int(g.edges()[1][i])]\n",
    "            power_features.append(connection_matrix[src_node_id][dst_node_id])\n",
    "        g.edata['power'] = torch.tensor(power_features, dtype=torch.float32)\n",
    "        g = g.int().to(params.device)\n",
    "        all_graphs.append(g)\n",
    "    return all_graphs\n",
    "\n",
    "\n",
    "device = torch.device('cuda' if torch.cuda.is_available() else 'cpu')\n",
    "print(f'{device} device found')\n",
    "project_dir = '../../data/project_small_209'\n",
    "\n",
    "matrix_dir = os.path.join(project_dir, 'topo-1/6/matrix') #!\n",
    "point_num = 209 #!\n",
    "\n",
    "map_weight = pd.read_csv(os.path.join(project_dir, 'map_weight.csv'), index_col=0).to_numpy().T\n",
    "map_weight = torch.tensor(map_weight, dtype=torch.float32).to(device) # shape = (N*N) * 5\n",
    "\n",
    "\n",
    "params = Params(point_num, device, project_dir, matrix_dir)\n",
    "\n",
    "graphs = load_graphs(params)"
   ]
  },
  {
   "cell_type": "code",
   "execution_count": 16,
   "metadata": {},
   "outputs": [],
   "source": [
    "g = graphs[0]"
   ]
  },
  {
   "cell_type": "code",
   "execution_count": 18,
   "metadata": {},
   "outputs": [
    {
     "data": {
      "text/plain": [
       "{'node_id': tensor([ 75,  87,  89, 100, 140, 145], device='cuda:0'), 'position': tensor([[3.4613, 1.0340],\n",
       "        [3.9613, 0.5340],\n",
       "        [4.4613, 5.0340],\n",
       "        [4.9613, 5.0340],\n",
       "        [6.4613, 1.5340],\n",
       "        [6.9613, 4.5340]], device='cuda:0'), 'feat': tensor([[4.9613, 3.0340],\n",
       "        [4.9613, 3.0340],\n",
       "        [4.9613, 3.0340],\n",
       "        [4.9613, 3.0340],\n",
       "        [4.9613, 3.0340],\n",
       "        [4.9613, 3.0340]], device='cuda:0')}"
      ]
     },
     "execution_count": 18,
     "metadata": {},
     "output_type": "execute_result"
    }
   ],
   "source": [
    "g.ndata"
   ]
  },
  {
   "cell_type": "code",
   "execution_count": null,
   "metadata": {},
   "outputs": [],
   "source": []
  }
 ],
 "metadata": {
  "kernelspec": {
   "display_name": "rem",
   "language": "python",
   "name": "python3"
  },
  "language_info": {
   "codemirror_mode": {
    "name": "ipython",
    "version": 3
   },
   "file_extension": ".py",
   "mimetype": "text/x-python",
   "name": "python",
   "nbconvert_exporter": "python",
   "pygments_lexer": "ipython3",
   "version": "3.9.18"
  }
 },
 "nbformat": 4,
 "nbformat_minor": 2
}
