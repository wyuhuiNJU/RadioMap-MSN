{
 "cells": [
  {
   "cell_type": "code",
   "execution_count": 1,
   "metadata": {},
   "outputs": [],
   "source": [
    "import pandas as pd\n",
    "import os\n",
    "import numpy as np\n",
    "project_dir = '../../data/project_small_209/'\n",
    "\n",
    "data = pd.read_csv(os.path.join(project_dir, 'data.csv'), index_col=0)\n",
    "positions = pd.read_csv(os.path.join(project_dir, 'positions.csv'), index_col=0)\n",
    "map_weight = []\n",
    "for i in range(data.shape[0]):\n",
    "    row = data.iloc[0]\n",
    "    src_idx = int(row['src'])\n",
    "    dst_idx = int(row['dst'])\n",
    "    power = row['power']\n",
    "    [x_t, y_t] = positions.iloc[src_idx].tolist()\n",
    "    [x_r, y_r] = positions.iloc[dst_idx].tolist()\n",
    "    map_weight.append([x_t, y_t, x_r, y_r, power])\n",
    "\n",
    "map_weight_df = pd.DataFrame(map_weight, columns=['x_t', 'y_t', 'x_r', 'y_r', 'power'])\n",
    "positions.iloc[1].tolist()\n",
    "map_weight_df.to_csv(os.path.join(project_dir, 'map_weight.csv'))"
   ]
  },
  {
   "cell_type": "code",
   "execution_count": 2,
   "metadata": {},
   "outputs": [
    {
     "data": {
      "text/plain": [
       "(43681, 5)"
      ]
     },
     "execution_count": 2,
     "metadata": {},
     "output_type": "execute_result"
    }
   ],
   "source": [
    "map_weight_df.shape"
   ]
  },
  {
   "cell_type": "code",
   "execution_count": null,
   "metadata": {},
   "outputs": [],
   "source": []
  }
 ],
 "metadata": {
  "kernelspec": {
   "display_name": "rem",
   "language": "python",
   "name": "python3"
  },
  "language_info": {
   "codemirror_mode": {
    "name": "ipython",
    "version": 3
   },
   "file_extension": ".py",
   "mimetype": "text/x-python",
   "name": "python",
   "nbconvert_exporter": "python",
   "pygments_lexer": "ipython3",
   "version": "3.9.18"
  }
 },
 "nbformat": 4,
 "nbformat_minor": 2
}
