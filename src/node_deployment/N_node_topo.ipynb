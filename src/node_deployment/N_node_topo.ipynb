{
 "cells": [
  {
   "cell_type": "code",
   "execution_count": 2,
   "metadata": {},
   "outputs": [],
   "source": [
    "import pandas as pd\n",
    "import cv2\n",
    "import os\n",
    "import numpy as np"
   ]
  },
  {
   "cell_type": "code",
   "execution_count": 3,
   "metadata": {},
   "outputs": [],
   "source": [
    "class Params():\n",
    "    def __init__(self) -> None:\n",
    "        pass\n",
    "\n",
    "    def set_project_params(self, point_num, ):\n",
    "        self.N = point_num\n",
    "        pass\n",
    "\n",
    "    def set_topo(self, nodeNum, draw_pic=False):\n",
    "        self.nodeNum = nodeNum # 拓扑节点数量\n",
    "        self.draw_pic = draw_pic # 生成拓扑时是否绘图\n",
    "\n",
    "    def set_restriction(self, min_distance, min_dBm):\n",
    "        self.min_distance = min_distance\n",
    "        self.min_dBm = min_dBm\n",
    "        pass\n",
    "\n",
    "def get_idx_in_data(src, dst, params: Params):\n",
    "    return src * params.N + dst\n",
    "\n",
    "# 生成全部点位的互联关系矩阵\n",
    "def gen_connection_matrix(params: Params, data):\n",
    "    N = params.N\n",
    "    matrix = np.zeros((N, N))\n",
    "    for src in range(N):\n",
    "        for dst in range(src+1, N):\n",
    "            src2dst_idx = get_idx_in_data(src, dst)\n",
    "            dst2src_idx = get_idx_in_data(dst, src)\n",
    "            distance = data.iloc[src2dst_idx]['distance']\n",
    "            src2dst_power = data.iloc[src2dst_idx]['power']\n",
    "            dst2src_power = data.iloc[dst2src_idx]['power']\n",
    "\n",
    "            if params.min_distance is False: # 未设置约束条件, 获取原始的互联关系矩阵\n",
    "                matrix[src][dst] = src2dst_power\n",
    "                matrix[dst][src] = dst2src_power\n",
    "            else:\n",
    "                # 不满足约束的, 跳过\n",
    "                if distance < params.min_distance:\n",
    "                    continue\n",
    "                if src2dst_power < params.min_dBm or dst2src_power < params.min_dBm:\n",
    "                    continue\n",
    "                # 满足约束\n",
    "                matrix[src][dst] = src2dst_power\n",
    "                matrix[dst][src] = dst2src_power\n",
    "    return matrix\n",
    "\n",
    "def main():\n",
    "    min_distance = 10 # 单位:米\n",
    "    min_dBm = -50\n",
    "\n",
    "    params = Params()\n",
    "    params.set\n",
    "    params.set_restriction(min_distance, min_dBm)\n",
    "\n",
    "    \n",
    "    pass"
   ]
  }
 ],
 "metadata": {
  "kernelspec": {
   "display_name": "rem",
   "language": "python",
   "name": "python3"
  },
  "language_info": {
   "codemirror_mode": {
    "name": "ipython",
    "version": 3
   },
   "file_extension": ".py",
   "mimetype": "text/x-python",
   "name": "python",
   "nbconvert_exporter": "python",
   "pygments_lexer": "ipython3",
   "version": "3.9.18"
  }
 },
 "nbformat": 4,
 "nbformat_minor": 2
}
